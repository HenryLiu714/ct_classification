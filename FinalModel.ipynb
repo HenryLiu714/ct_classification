{
  "nbformat": 4,
  "nbformat_minor": 0,
  "metadata": {
    "colab": {
      "name": "ConvNet_FINAL",
      "provenance": [],
      "collapsed_sections": [],
      "authorship_tag": "ABX9TyMoT4fOEaWwosQBTD/ma165",
      "include_colab_link": true
    },
    "kernelspec": {
      "name": "python3",
      "display_name": "Python 3"
    },
    "language_info": {
      "name": "python"
    }
  },
  "cells": [
    {
      "cell_type": "markdown",
      "metadata": {
        "id": "view-in-github",
        "colab_type": "text"
      },
      "source": [
        "<a href=\"https://colab.research.google.com/github/HenryLiu714/ct_classification/blob/main/FinalModel.ipynb\" target=\"_parent\"><img src=\"https://colab.research.google.com/assets/colab-badge.svg\" alt=\"Open In Colab\"/></a>"
      ]
    },
    {
      "cell_type": "markdown",
      "source": [
        "# **Importing packages**"
      ],
      "metadata": {
        "id": "CXKabFvug-r9"
      }
    },
    {
      "cell_type": "code",
      "execution_count": null,
      "metadata": {
        "id": "TleKXOG3TJRl"
      },
      "outputs": [],
      "source": [
        "import tensorflow as tf\n",
        "from tensorflow import keras\n",
        "from tensorflow.keras.models import Sequential\n",
        "from tensorflow.keras.layers import Dense, Dropout, Activation, Flatten, Conv2D, MaxPooling2D, AveragePooling2D\n",
        "import numpy as np\n",
        "import matplotlib.pyplot as plt\n",
        "\n",
        "from sklearn.model_selection import train_test_split"
      ]
    },
    {
      "cell_type": "code",
      "source": [
        "from google.colab import drive\n",
        "drive.mount('/content/drive')"
      ],
      "metadata": {
        "colab": {
          "base_uri": "https://localhost:8080/"
        },
        "id": "1zLU8XioTQ28",
        "outputId": "811f2e50-9f2a-4455-8e11-05d50d28bbd6"
      },
      "execution_count": null,
      "outputs": [
        {
          "output_type": "stream",
          "name": "stdout",
          "text": [
            "Mounted at /content/drive\n"
          ]
        }
      ]
    },
    {
      "cell_type": "markdown",
      "source": [
        "# **Loading and splitting datasets**"
      ],
      "metadata": {
        "id": "fZx4aNxYhGMI"
      }
    },
    {
      "cell_type": "code",
      "source": [
        "X1 = np.load(\"/content/drive/MyDrive/Stem Proyectp/Project/DataStorage/set2_features.npy\") # Non-equalized images\n",
        "y1 = np.load(\"/content/drive/MyDrive/Stem Proyectp/Project/DataStorage/set2_labels.npy\")"
      ],
      "metadata": {
        "id": "Hj6ILzk7TST2"
      },
      "execution_count": null,
      "outputs": []
    },
    {
      "cell_type": "code",
      "source": [
        "X2 = np.load(\"/content/drive/MyDrive/Stem Proyectp/Project/DataStorage/set4_features.npy\") # Mix images\n",
        "y2 = np.load(\"/content/drive/MyDrive/Stem Proyectp/Project/DataStorage/set4_labels.npy\")"
      ],
      "metadata": {
        "id": "JItDNIeVp5Wv"
      },
      "execution_count": null,
      "outputs": []
    },
    {
      "cell_type": "code",
      "source": [
        "X3 = np.load(\"/content/drive/MyDrive/Stem Proyectp/Project/DataStorage/set3_features.npy\") # All equalized images\n",
        "y3 = np.load(\"/content/drive/MyDrive/Stem Proyectp/Project/DataStorage/set3_labels.npy\")"
      ],
      "metadata": {
        "id": "_IzoQ0LbamNt"
      },
      "execution_count": null,
      "outputs": []
    },
    {
      "cell_type": "code",
      "source": [
        "# 70/15/15 train/test/valid split\n",
        "X_train, X_rem, y_train, y_rem = train_test_split(X1, y1, test_size = 0.3, random_state = 17)\n",
        "X_test, X_valid, y_test, y_valid = train_test_split(X_rem, y_rem, test_size = 0.5, random_state = 9)\n",
        "\n",
        "X_train2, X_rem2, y_train2, y_rem2 = train_test_split(X2, y2, test_size = 0.3, random_state = 17)\n",
        "X_test2, X_valid2, y_test2, y_valid2 = train_test_split(X_rem2, y_rem2, test_size = 0.5, random_state = 9)\n",
        "\n",
        "X_train3, X_rem3, y_train3, y_rem3 = train_test_split(X3, y3, test_size = 0.3, random_state = 17)\n",
        "X_test3, X_valid3, y_test3, y_valid3 = train_test_split(X_rem3, y_rem3, test_size = 0.5, random_state = 9)"
      ],
      "metadata": {
        "id": "YxjktPqjTc3P"
      },
      "execution_count": null,
      "outputs": []
    },
    {
      "cell_type": "markdown",
      "source": [
        "# **Loading model**"
      ],
      "metadata": {
        "id": "pKqObsd_hRsF"
      }
    },
    {
      "cell_type": "code",
      "source": [
        "model = keras.models.load_model(\"/content/drive/MyDrive/Stem Proyectp/Project/Models/model_6\")"
      ],
      "metadata": {
        "id": "oG58QqhvTe9W"
      },
      "execution_count": null,
      "outputs": []
    },
    {
      "cell_type": "code",
      "source": [
        "model.evaluate(X_test2, y_test2) # Mix\n",
        "model.evaluate(X_test, y_test) # Non\n",
        "model.evaluate(X_test3, y_test3) # All"
      ],
      "metadata": {
        "colab": {
          "base_uri": "https://localhost:8080/"
        },
        "id": "HAiZQLe-TkMB",
        "outputId": "bb0d07c0-74dd-423d-b5c8-aed3146c468c"
      },
      "execution_count": null,
      "outputs": [
        {
          "output_type": "stream",
          "name": "stdout",
          "text": [
            "5/5 [==============================] - 6s 1s/step - loss: 0.2210 - accuracy: 0.9026\n",
            "5/5 [==============================] - 11s 2s/step - loss: 0.2230 - accuracy: 0.8961\n",
            "5/5 [==============================] - 7s 1s/step - loss: 0.2639 - accuracy: 0.8377\n"
          ]
        },
        {
          "output_type": "execute_result",
          "data": {
            "text/plain": [
              "[0.2639225423336029, 0.8376623392105103]"
            ]
          },
          "metadata": {},
          "execution_count": 8
        }
      ]
    },
    {
      "cell_type": "code",
      "source": [
        "def testModel(test_images, test_labels):\n",
        "  correct = 0\n",
        "\n",
        "  outputs = []\n",
        "  spec_acc = []\n",
        "  total = len(test_images)\n",
        "\n",
        "  hem_total = 0\n",
        "  isch_total = 0\n",
        "  norm_total = 0\n",
        "\n",
        "  hem = 0\n",
        "  isch = 0\n",
        "  norm = 0\n",
        "\n",
        "  false_hem = 0\n",
        "  false_isch = 0\n",
        "  false_norm = 0\n",
        "\n",
        "  predictions = model.predict(test_images)\n",
        "  \n",
        "  for i in range(0, len(test_images)):\n",
        "    predictions_list = list(predictions[i])\n",
        "\n",
        "    maximum = max(predictions_list)\n",
        "    prediction = predictions_list.index(maximum)\n",
        "\n",
        "    if prediction == test_labels[i]:\n",
        "      correct += 1\n",
        "\n",
        "    if prediction == 0:\n",
        "      outputs.append(1 - maximum)\n",
        "    \n",
        "    else:\n",
        "      outputs.append(prediction)\n",
        "\n",
        "    if test_labels[i] == 0:\n",
        "      norm_total += 1\n",
        "      if prediction == 0:\n",
        "        norm += 1\n",
        "\n",
        "    elif test_labels[i] == 1:\n",
        "      hem_total += 1\n",
        "      if prediction == 1:\n",
        "        hem += 1\n",
        "\n",
        "    elif test_labels[i] == 2:\n",
        "      isch_total += 1\n",
        "      if  prediction == 2:\n",
        "        isch += 1\n",
        "\n",
        "    if prediction == 0 and test_labels[i] != 0:\n",
        "      false_norm += 1\n",
        "    elif prediction == 1 and test_labels[i] != 1:\n",
        "      false_hem += 1\n",
        "    elif prediction == 2 and test_labels[i] != 2:\n",
        "      false_isch += 1\n",
        "\n",
        "  accuracy = float(correct) / total\n",
        "\n",
        "  spec_acc.append(float(norm)/norm_total)\n",
        "  spec_acc.append(float(hem)/hem_total)\n",
        "  spec_acc.append(float(isch)/isch_total)\n",
        "\n",
        "  spec_acc.append([false_norm, false_hem, false_isch])\n",
        "\n",
        "  return accuracy, outputs, spec_acc"
      ],
      "metadata": {
        "id": "7NIkyhLOae_s"
      },
      "execution_count": null,
      "outputs": []
    },
    {
      "cell_type": "markdown",
      "source": [
        "# **Testing Model**"
      ],
      "metadata": {
        "id": "1VEBxYgVhWxT"
      }
    },
    {
      "cell_type": "code",
      "source": [
        "accuracy, outputs, spec_acc = testModel(X_test, y_test) # Non\n",
        "print(accuracy)\n",
        "print(outputs)\n",
        "print(spec_acc)\n",
        "\n",
        "accuracy, outputs, spec_acc = testModel(X_test2, y_test2) # Mix\n",
        "print(accuracy)\n",
        "print(outputs)\n",
        "print(spec_acc)\n",
        "\n",
        "accuracy, outputs, spec_acc = testModel(X_test3, y_test3) # All\n",
        "print(accuracy)\n",
        "print(outputs)\n",
        "print(spec_acc)"
      ],
      "metadata": {
        "id": "0K6dM4FScRVW",
        "colab": {
          "base_uri": "https://localhost:8080/"
        },
        "outputId": "b4a200a2-a827-4c05-ebe0-80486d451a12"
      },
      "execution_count": null,
      "outputs": [
        {
          "output_type": "stream",
          "name": "stdout",
          "text": [
            "0.8961038961038961\n",
            "[1, 0.4173205494880676, 0.02806854248046875, 0.0064313411712646484, 2, 2, 0.07936900854110718, 2, 1, 1, 1, 0.2486628293991089, 1, 2, 1, 1, 0.024632394313812256, 2, 2, 1, 2, 0.1487014889717102, 1, 0.0985417366027832, 0.0582503080368042, 0.1402316689491272, 0.006189405918121338, 2, 1, 1, 1, 1, 1, 0.08843523263931274, 1, 0.17895519733428955, 0.34964489936828613, 1, 0.08043140172958374, 0.0003592967987060547, 0.018735110759735107, 2, 0.07468271255493164, 1, 0.032682955265045166, 1, 1, 1, 1, 0.11815714836120605, 0.41080373525619507, 2, 1, 1, 2, 0.016035079956054688, 2, 1, 2, 2, 0.2928307056427002, 2, 2, 2, 1, 2, 1, 2, 0.010705947875976562, 0.0467032790184021, 2, 1, 0.22149527072906494, 1, 2, 1, 1, 0.23289066553115845, 1, 2, 2, 0.4371805191040039, 1, 2, 0.05644887685775757, 0.05153155326843262, 2, 0.386634886264801, 1, 1, 2, 2, 2, 2, 0.047746896743774414, 2, 2, 1, 1, 1, 2, 0.0055803656578063965, 2, 2, 2, 1, 0.44622141122817993, 1, 0.01523900032043457, 1, 1, 1, 1, 1, 1, 0.18225842714309692, 2, 0.028264105319976807, 1, 0.008607864379882812, 2, 0.15673404932022095, 0.006964266300201416, 2, 1, 1, 0.03921622037887573, 1, 2, 1, 1, 0.12745720148086548, 1, 0.04159343242645264, 1, 0.031915485858917236, 2, 0.02279764413833618, 1, 1, 0.2360987663269043, 0.4954121708869934, 0.25385797023773193, 0.19111400842666626, 1, 1, 1, 1, 1, 1, 0.01809382438659668, 0.4808737635612488, 0.012200593948364258, 0.008122801780700684]\n",
            "[0.9743589743589743, 0.821917808219178, 0.9523809523809523, [15, 1, 0]]\n",
            "0.9025974025974026\n",
            "[1, 1, 1, 0.5330855250358582, 1, 1, 2, 1, 1, 2, 2, 1, 1, 1, 1, 1, 1, 1, 0.01809382438659668, 1, 1, 1, 1, 1, 2, 1, 2, 2, 0.48454731702804565, 2, 2, 1, 1, 2, 0.22149527072906494, 2, 1, 1, 0.34964489936828613, 0.2928307056427002, 2, 1, 2, 1, 0.022231638431549072, 1, 1, 0.0582503080368042, 2, 1, 2, 0.006403446197509766, 2, 1, 2, 2, 1, 1, 1, 1, 2, 2, 0.13819247484207153, 2, 2, 0.06502747535705566, 1, 1, 1, 2, 1, 0.19647109508514404, 1, 1, 0.08154177665710449, 0.10484743118286133, 1, 2, 1, 2, 2, 0.014503180980682373, 1, 1, 2, 0.20224297046661377, 1, 1, 1, 2, 2, 1, 0.1391761302947998, 1, 1, 1, 0.028264105319976807, 1, 0.23090511560440063, 1, 1, 0.06372815370559692, 0.08776366710662842, 1, 1, 1, 2, 2, 0.40275001525878906, 2, 1, 2, 2, 1, 2, 1, 1, 1, 0.1486484408378601, 2, 1, 1, 2, 2, 1, 1, 2, 1, 2, 1, 2, 1, 2, 1, 1, 2, 2, 1, 2, 2, 2, 0.25385797023773193, 1, 0.0467032790184021, 2, 1, 2, 2, 1, 1, 1, 0.020815372467041016, 1, 1]\n",
            "[0.6666666666666666, 0.9444444444444444, 1.0, [4, 11, 0]]\n",
            "0.8376623376623377\n",
            "[1, 0.48303812742233276, 2, 2, 1, 1, 0.5286453068256378, 1, 2, 1, 1, 2, 1, 1, 1, 2, 1, 1, 0.07792454957962036, 2, 1, 2, 2, 1, 2, 1, 2, 2, 1, 1, 1, 1, 0.20166760683059692, 2, 2, 0.014119267463684082, 1, 2, 1, 1, 1, 0.5370810925960541, 2, 1, 2, 1, 2, 2, 1, 1, 0.35168570280075073, 1, 0.5268341302871704, 1, 1, 1, 1, 1, 1, 1, 1, 0.17449885606765747, 2, 1, 1, 1, 1, 2, 1, 1, 2, 1, 1, 1, 1, 1, 1, 2, 1, 2, 1, 2, 2, 1, 0.4859502911567688, 1, 1, 1, 0.02643531560897827, 1, 1, 1, 1, 1, 1, 1, 1, 1, 1, 1, 1, 1, 1, 2, 1, 0.056094586849212646, 1, 0.09910953044891357, 1, 1, 1, 1, 1, 1, 1, 1, 2, 1, 2, 1, 0.5268295109272003, 1, 1, 1, 2, 1, 1, 1, 0.12502866983413696, 2, 1, 1, 1, 1, 2, 1, 2, 1, 2, 2, 2, 0.21528762578964233, 0.12475627660751343, 1, 1, 1, 2, 1, 2, 1, 1, 1, 1, 1]\n",
            "[0.375, 0.9411764705882353, 1.0, [5, 20, 0]]\n"
          ]
        }
      ]
    },
    {
      "cell_type": "code",
      "source": [
        "model.summary()"
      ],
      "metadata": {
        "id": "pP1QfOjgU2ax",
        "colab": {
          "base_uri": "https://localhost:8080/"
        },
        "outputId": "f0840c69-c6b5-4dad-c611-57f2157ac52d"
      },
      "execution_count": null,
      "outputs": [
        {
          "output_type": "stream",
          "name": "stdout",
          "text": [
            "Model: \"sequential_23\"\n",
            "_________________________________________________________________\n",
            " Layer (type)                Output Shape              Param #   \n",
            "=================================================================\n",
            " conv2d_92 (Conv2D)          (None, 248, 248, 32)      2624      \n",
            "                                                                 \n",
            " max_pooling2d_91 (MaxPoolin  (None, 82, 82, 32)       0         \n",
            " g2D)                                                            \n",
            "                                                                 \n",
            " conv2d_93 (Conv2D)          (None, 76, 76, 64)        100416    \n",
            "                                                                 \n",
            " max_pooling2d_92 (MaxPoolin  (None, 25, 25, 64)       0         \n",
            " g2D)                                                            \n",
            "                                                                 \n",
            " conv2d_94 (Conv2D)          (None, 19, 19, 64)        200768    \n",
            "                                                                 \n",
            " max_pooling2d_93 (MaxPoolin  (None, 6, 6, 64)         0         \n",
            " g2D)                                                            \n",
            "                                                                 \n",
            " conv2d_95 (Conv2D)          (None, 4, 4, 128)         73856     \n",
            "                                                                 \n",
            " max_pooling2d_94 (MaxPoolin  (None, 2, 2, 128)        0         \n",
            " g2D)                                                            \n",
            "                                                                 \n",
            " flatten_23 (Flatten)        (None, 512)               0         \n",
            "                                                                 \n",
            " dense_46 (Dense)            (None, 64)                32832     \n",
            "                                                                 \n",
            " dropout_23 (Dropout)        (None, 64)                0         \n",
            "                                                                 \n",
            " dense_47 (Dense)            (None, 3)                 195       \n",
            "                                                                 \n",
            "=================================================================\n",
            "Total params: 410,691\n",
            "Trainable params: 410,691\n",
            "Non-trainable params: 0\n",
            "_________________________________________________________________\n"
          ]
        }
      ]
    },
    {
      "cell_type": "code",
      "source": [
        ""
      ],
      "metadata": {
        "id": "EHgMYsOow5IJ"
      },
      "execution_count": null,
      "outputs": []
    }
  ]
}