{
  "nbformat": 4,
  "nbformat_minor": 0,
  "metadata": {
    "colab": {
      "name": "DataAnalysis.ipynb",
      "provenance": [],
      "authorship_tag": "ABX9TyN4CnNC3DgITFSwcnVOiax0",
      "include_colab_link": true
    },
    "kernelspec": {
      "name": "python3",
      "display_name": "Python 3"
    },
    "language_info": {
      "name": "python"
    }
  },
  "cells": [
    {
      "cell_type": "markdown",
      "metadata": {
        "id": "view-in-github",
        "colab_type": "text"
      },
      "source": [
        "<a href=\"https://colab.research.google.com/github/HenryLiu714/ct_classification/blob/main/DataAnalysis.ipynb\" target=\"_parent\"><img src=\"https://colab.research.google.com/assets/colab-badge.svg\" alt=\"Open In Colab\"/></a>"
      ]
    },
    {
      "cell_type": "code",
      "execution_count": null,
      "metadata": {
        "id": "pLBJIH5-PKq4"
      },
      "outputs": [],
      "source": [
        "import tensorflow as tf\n",
        "from tensorflow import keras\n",
        "import numpy as np\n",
        "import matplotlib.pyplot as plt\n",
        "\n",
        "from sklearn.model_selection import train_test_split"
      ]
    },
    {
      "cell_type": "code",
      "source": [
        "from google.colab import drive\n",
        "drive.mount('/content/drive')"
      ],
      "metadata": {
        "id": "QOpQIN3mPRXN",
        "colab": {
          "base_uri": "https://localhost:8080/"
        },
        "outputId": "bbaf2074-738d-4ece-cad5-bc63bc13eddd"
      },
      "execution_count": null,
      "outputs": [
        {
          "output_type": "stream",
          "name": "stdout",
          "text": [
            "Mounted at /content/drive\n"
          ]
        }
      ]
    },
    {
      "cell_type": "code",
      "source": [
        "X = np.load(\"/content/drive/MyDrive/Stem Proyectp/Project/DataStorage/set2_features.npy\")\n",
        "y = np.load(\"/content/drive/MyDrive/Stem Proyectp/Project/DataStorage/set2_labels.npy\")\n",
        "\n",
        "X2 = np.load(\"/content/drive/MyDrive/Stem Proyectp/Project/DataStorage/set4_features.npy\") # Mix images\n",
        "y2 = np.load(\"/content/drive/MyDrive/Stem Proyectp/Project/DataStorage/set4_labels.npy\")"
      ],
      "metadata": {
        "id": "C3EfowIYPTBU"
      },
      "execution_count": null,
      "outputs": []
    },
    {
      "cell_type": "code",
      "source": [
        "# 70/15/15 train/test/valid split\n",
        "X_train, X_rem, y_train, y_rem = train_test_split(X, y, test_size = 0.3, random_state = 17)\n",
        "X_test, X_valid, y_test, y_valid = train_test_split(X_rem, y_rem, test_size = 0.5, random_state = 9)\n",
        "\n",
        "X_train2, X_rem2, y_train2, y_rem2 = train_test_split(X2, y2, test_size = 0.3, random_state = 17)\n",
        "X_test2, X_valid2, y_test2, y_valid2 = train_test_split(X_rem2, y_rem2, test_size = 0.5, random_state = 9)"
      ],
      "metadata": {
        "id": "oEjyt2_XPoD_"
      },
      "execution_count": null,
      "outputs": []
    },
    {
      "cell_type": "code",
      "source": [
        "model = keras.models.load_model(\"/content/drive/MyDrive/Stem Proyectp/Project/Models/model_6\")\n",
        "model1 = keras.models.load_model(\"/content/drive/MyDrive/Stem Proyectp/Project/Models/model_3\")"
      ],
      "metadata": {
        "id": "AhNiOOBgR_ur"
      },
      "execution_count": null,
      "outputs": []
    },
    {
      "cell_type": "code",
      "source": [
        "from sklearn.metrics import roc_curve,roc_auc_score, auc\n",
        "from sklearn.preprocessing import LabelBinarizer as lb"
      ],
      "metadata": {
        "id": "HrstkQ-fZpIU"
      },
      "execution_count": null,
      "outputs": []
    },
    {
      "cell_type": "code",
      "source": [
        "pred = model.predict(X_test2)\n",
        "\n",
        "pred1 = model1.predict(X_test2)"
      ],
      "metadata": {
        "id": "5gJoL8-smLku"
      },
      "execution_count": null,
      "outputs": []
    },
    {
      "cell_type": "code",
      "source": [
        "from sklearn.preprocessing import binarize"
      ],
      "metadata": {
        "id": "f0HMh0PeVKme"
      },
      "execution_count": null,
      "outputs": []
    },
    {
      "cell_type": "code",
      "source": [
        "yTrue = [] # Binarizing testing labels\n",
        "\n",
        "for i in y_test2:\n",
        "  if i == 2:\n",
        "    j = 1\n",
        "  else:\n",
        "    j = i\n",
        "\n",
        "  yTrue.append(j)"
      ],
      "metadata": {
        "id": "l4vqWtOfVM-c"
      },
      "execution_count": null,
      "outputs": []
    },
    {
      "cell_type": "code",
      "source": [
        "yScore = []\n",
        "\n",
        "for i in range(0, len(y_test2)):\n",
        "  if y_test2[i] == 0:\n",
        "    a = pred[i][0]\n",
        "    yScore.append(a)\n",
        "\n",
        "  else:\n",
        "    a = pred[i][1] + pred[i][2]\n",
        "    yScore.append(a)\n",
        "\n",
        "print(yScore)"
      ],
      "metadata": {
        "colab": {
          "base_uri": "https://localhost:8080/"
        },
        "id": "I0G0XBWheYVK",
        "outputId": "d696716a-0194-4ecf-fc5b-d0d84c799cdc"
      },
      "execution_count": null,
      "outputs": [
        {
          "output_type": "stream",
          "name": "stdout",
          "text": [
            "[0.9982976, 0.77991503, 0.98020023, 0.46691447, 0.4348331, 0.6013391, 0.9999997, 0.4337016, 0.58527493, 0.99999857, 1.0, 0.99414325, 0.58538663, 0.99954647, 0.4379582, 0.94786525, 0.5533014, 0.93386436, 0.9819062, 0.9978472, 0.7027889, 0.9834766, 0.38455746, 0.9938368, 1.0, 0.5814433, 1.0, 0.99999857, 0.5154527, 0.9999999, 0.9999972, 0.9850989, 0.97565335, 1.0, 0.22149527, 1.0, 0.56107056, 0.6497612, 0.6503551, 0.7071693, 0.9999974, 0.031821374, 1.0, 0.98375803, 0.97776836, 0.99502105, 0.9712788, 0.9417497, 1.0, 0.9951228, 1.0, 0.99359655, 1.0, 0.66869444, 1.0, 1.0, 0.98368645, 0.43811977, 0.96334255, 0.5227733, 1.0, 0.99994755, 0.8618075, 0.9999973, 1.0, 0.9349725, 0.9997352, 0.96972346, 0.99724585, 0.9999999, 0.9949494, 0.19647111, 0.56661594, 0.9584395, 0.9184582, 0.89515257, 0.55428016, 1.0, 0.43687737, 1.0, 0.9995624, 0.9854968, 0.9972052, 0.9968197, 0.99999994, 0.797757, 0.99582756, 0.9943515, 0.4473494, 0.99999106, 1.0, 0.60593003, 0.86082387, 0.99800444, 0.99518275, 0.6368403, 0.9717359, 0.9998936, 0.7690949, 0.9973416, 0.9972135, 0.93627185, 0.91223633, 0.7287127, 0.9963566, 0.9721729, 1.0, 1.0, 0.40275005, 1.0, 0.9960835, 1.0, 1.0, 0.4462824, 1.0, 0.57162136, 0.59046185, 0.96961105, 0.85135156, 1.0, 0.988692, 0.88986593, 1.0, 1.0, 0.43949184, 0.9957002, 1.0, 0.9844332, 0.99996233, 0.97647864, 1.0, 0.99624664, 0.99999475, 0.9977729, 0.33712813, 1.0, 1.0, 0.9632026, 1.0, 1.0, 1.0, 0.25385794, 0.9845954, 0.9532967, 0.9999975, 0.9091356, 0.9999936, 0.99999964, 0.95776796, 0.5984188, 0.5617255, 0.9791846, 0.6958912, 0.9964706]\n"
          ]
        }
      ]
    },
    {
      "cell_type": "code",
      "source": [
        "yScore1 = []\n",
        "\n",
        "for i in range(0, len(y_test2)):\n",
        "  if y_test2[i] == 0:\n",
        "    a = pred1[i][0]\n",
        "    yScore1.append(a)\n",
        "\n",
        "  else:\n",
        "    a = pred1[i][1] + pred1[i][2]\n",
        "    yScore1.append(a)\n",
        "\n",
        "print(yScore1)"
      ],
      "metadata": {
        "colab": {
          "base_uri": "https://localhost:8080/"
        },
        "id": "OYPTXf5Bon-y",
        "outputId": "86e29999-f600-416e-c052-dbfd8b5e84e0"
      },
      "execution_count": null,
      "outputs": [
        {
          "output_type": "stream",
          "name": "stdout",
          "text": [
            "[1.0, 0.99998486, 1.0, 0.053747285, 5.3198467e-14, 1.0, 1.9669198e-14, 7.026751e-11, 1.0, 1.0624187e-09, 9.795453e-09, 0.99996614, 1.0, 0.9997223, 1.0858818e-10, 0.99999344, 1.0, 0.9999999, 1.0, 0.9999888, 1.0, 1.0, 1.7425625e-08, 0.99988806, 1.0, 1.0, 0.9977342, 0.00014834783, 0.999913, 0.973626, 1.0, 1.0, 1.0, 1.3448273e-11, 0.9997371, 1.0, 1.0, 1.0, 0.9999989, 0.98367506, 1.1229957e-05, 0.9999987, 0.07501035, 1.0, 0.9999982, 0.999984, 1.0, 1.0, 0.92425406, 0.99616015, 1.5840651e-05, 1.0, 0.004177213, 1.0, 0.99989676, 1.0, 1.0, 6.019376e-07, 0.9999999, 1.0, 1.0, 0.6453893, 1.0, 7.947014e-06, 0.77617383, 0.9999994, 1.0, 1.0, 0.999992, 1.0, 0.999864, 0.99999994, 1.0, 1.0, 0.9998012, 0.9999713, 1.0, 0.5604818, 2.1984624e-05, 0.32536998, 0.003049413, 0.99997795, 0.9999968, 0.9998085, 1.68769e-07, 0.9999989, 0.99998415, 0.9997818, 2.9424534e-13, 2.1948094e-06, 0.99315506, 0.999912, 0.99999595, 0.99995184, 0.99986315, 1.0, 1.0, 1.0, 0.99999964, 0.999998, 0.99999964, 1.0, 0.9999988, 1.0, 0.9995677, 1.0, 0.9962704, 1.0500201e-09, 1.0, 0.9933719, 0.9997167, 1.0, 1.0, 4.7441e-06, 7.1553166e-11, 1.0, 0.99998474, 0.9999999, 0.99892396, 0.15106814, 0.9999993, 0.9999418, 0.50183225, 0.8683209, 9.108891e-12, 0.9997551, 5.7737484e-06, 1.0, 1.0, 1.0, 5.8130384e-10, 0.9999219, 1.0, 0.9999974, 2.2050203e-06, 1.0, 0.9982863, 1.0, 0.9975443, 5.616437e-10, 0.8225716, 0.9886436, 1.0, 0.9999914, 5.224894e-12, 1.0, 3.8396637e-11, 2.0281959e-07, 1.0, 0.9999999, 1.0, 1.0, 1.0, 0.9999989]\n"
          ]
        }
      ]
    },
    {
      "cell_type": "code",
      "source": [
        "fpr, tpr, thresholds = roc_curve(yTrue, yScore)\n",
        "roc_auc = auc(fpr, tpr)\n",
        "print(roc_auc)\n",
        "\n",
        "fpr1, tpr1, thresholds1 = roc_curve(yTrue, yScore1)\n",
        "roc_auc1 = auc(fpr1, tpr1)\n",
        "print(roc_auc1)"
      ],
      "metadata": {
        "id": "y2rAdHUWe5H1",
        "colab": {
          "base_uri": "https://localhost:8080/"
        },
        "outputId": "6d5a5720-2453-409d-9b4d-8815a8eafa29"
      },
      "execution_count": null,
      "outputs": [
        {
          "output_type": "stream",
          "name": "stdout",
          "text": [
            "0.8364638116704233\n",
            "0.5904082143751566\n"
          ]
        }
      ]
    },
    {
      "cell_type": "code",
      "source": [
        "plt.plot(fpr, tpr, color = \"b\")\n",
        "plt.plot(fpr1, tpr1, color = \"orange\")\n",
        "plt.plot([0, 1], [0, 1], color=\"black\", linestyle=\"--\")\n",
        "plt.axis([-0.05, 1.05, -0.05, 1.05])\n",
        "\n",
        "plt.legend([\"Final Model: AUC = \" + str(round(roc_auc, 4)), \"Prototype Model: AUC = \" + str(round(roc_auc1, 4)), \"Random Classifier\"])\n",
        "\n",
        "plt.title(\"ROC Curve Comparison\")\n",
        "plt.ylabel(\"True Positive Rate\")\n",
        "plt.xlabel(\"False Positive Rate\")\n",
        "plt.show()"
      ],
      "metadata": {
        "colab": {
          "base_uri": "https://localhost:8080/",
          "height": 295
        },
        "id": "zDAphmO8lWwO",
        "outputId": "5a0733c4-3464-4329-eba0-cc8078bf385e"
      },
      "execution_count": null,
      "outputs": [
        {
          "output_type": "display_data",
          "data": {
            "image/png": "[encoded data removed]",
            "text/plain": [
              "<Figure size 432x288 with 1 Axes>"
            ]
          },
          "metadata": {
            "needs_background": "light"
          }
        }
      ]
    },
    {
      "cell_type": "code",
      "source": [
        ""
      ],
      "metadata": {
        "id": "RGBWf45j2GFT"
      },
      "execution_count": null,
      "outputs": []
    }
  ]
}