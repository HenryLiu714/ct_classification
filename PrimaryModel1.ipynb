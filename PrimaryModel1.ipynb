{
  "cells": [
    {
      "cell_type": "markdown",
      "metadata": {
        "id": "view-in-github",
        "colab_type": "text"
      },
      "source": [
        "<a href=\"https://colab.research.google.com/github/HenryLiu714/ct_classification/blob/main/PrimaryModel1.ipynb\" target=\"_parent\"><img src=\"https://colab.research.google.com/assets/colab-badge.svg\" alt=\"Open In Colab\"/></a>"
      ]
    },
    {
      "cell_type": "code",
      "execution_count": null,
      "metadata": {
        "id": "yI626LZ0N0Bh"
      },
      "outputs": [],
      "source": [
        "import tensorflow as tf\n",
        "from tensorflow import keras\n",
        "from tensorflow.keras.models import Sequential\n",
        "from tensorflow.keras.layers import Dense, Dropout, Activation, Flatten, Conv2D, MaxPooling2D, AveragePooling2D\n",
        "import numpy as np\n",
        "import matplotlib.pyplot as plt\n",
        "\n",
        "from sklearn.model_selection import train_test_split"
      ]
    },
    {
      "cell_type": "code",
      "execution_count": null,
      "metadata": {
        "id": "hg8lyYwtN3Qo",
        "colab": {
          "base_uri": "https://localhost:8080/"
        },
        "outputId": "1cf28543-879c-4660-eb00-887cc11990ac"
      },
      "outputs": [
        {
          "output_type": "stream",
          "name": "stdout",
          "text": [
            "Mounted at /content/drive\n"
          ]
        }
      ],
      "source": [
        "from google.colab import drive\n",
        "drive.mount('/content/drive')"
      ]
    },
    {
      "cell_type": "code",
      "execution_count": null,
      "metadata": {
        "id": "obtp6ZhsN56M"
      },
      "outputs": [],
      "source": [
        "X = np.load(\"/content/drive/MyDrive/Stem Proyectp/Project/DataStorage/set2_features.npy\")\n",
        "y = np.load(\"/content/drive/MyDrive/Stem Proyectp/Project/DataStorage/set2_labels.npy\")\n",
        "\n",
        "X2 = np.load(\"/content/drive/MyDrive/Stem Proyectp/Project/DataStorage/set4_features.npy\") # Mix images\n",
        "y2 = np.load(\"/content/drive/MyDrive/Stem Proyectp/Project/DataStorage/set4_labels.npy\")\n",
        "\n",
        "X_train, X_rem, y_train, y_rem = train_test_split(X, y, test_size = 0.3, random_state = 17)\n",
        "X_test, X_valid, y_test, y_valid = train_test_split(X_rem, y_rem, test_size = 0.5, random_state = 9)\n",
        "\n",
        "X_train2, X_rem2, y_train2, y_rem2 = train_test_split(X2, y2, test_size = 0.3, random_state = 17)\n",
        "X_test2, X_valid2, y_test2, y_valid2 = train_test_split(X_rem2, y_rem2, test_size = 0.5, random_state = 9)"
      ]
    },
    {
      "cell_type": "code",
      "source": [
        "Xv = np.append(X_valid, X_valid2)\n",
        "yv = np.append(y_valid, y_valid2)"
      ],
      "metadata": {
        "id": "aEvbqhKbXVK-"
      },
      "execution_count": null,
      "outputs": []
    },
    {
      "cell_type": "code",
      "execution_count": null,
      "metadata": {
        "id": "KQCuxSIYON7n"
      },
      "outputs": [],
      "source": [
        "class BuildModel:\n",
        "  def layer1(model):\n",
        "    model.add(Conv2D(32, (9, 9), activation='relu', input_shape=X.shape[1:]))\n",
        "    model.add(AveragePooling2D(pool_size=(2, 2)))\n",
        "\n",
        "  def convLayer(model):\n",
        "    model.add(Conv2D(128, (3, 3), activation = 'relu'))\n",
        "    model.add(AveragePooling2D(pool_size=(2,2)))\n",
        "\n",
        "  def convLayer2(model):\n",
        "    model.add(Conv2D(64, (5, 5), activation = 'relu'))\n",
        "    model.add(AveragePooling2D(pool_size= (3,3)))\n",
        "\n",
        "  def denseLayer(model):\n",
        "    model.add(Flatten())\n",
        "    model.add(Dense(64, activation = 'relu'))\n",
        "    model.add(Dense(3, activation = 'softmax'))"
      ]
    },
    {
      "cell_type": "code",
      "execution_count": null,
      "metadata": {
        "id": "RPvblJVQOWuS"
      },
      "outputs": [],
      "source": [
        "model = Sequential()\n",
        "\n",
        "BuildModel.layer1(model)\n",
        "BuildModel.convLayer2(model)\n",
        "BuildModel.convLayer(model)\n",
        "BuildModel.denseLayer(model)"
      ]
    },
    {
      "cell_type": "code",
      "execution_count": null,
      "metadata": {
        "id": "iWUf_d2FOX7Y"
      },
      "outputs": [],
      "source": [
        "model.compile(loss = 'sparse_categorical_crossentropy', \n",
        "              optimizer = 'adam',\n",
        "              metrics = ['accuracy'])"
      ]
    },
    {
      "cell_type": "code",
      "execution_count": null,
      "metadata": {
        "colab": {
          "base_uri": "https://localhost:8080/"
        },
        "id": "KUctsi9BOZmh",
        "outputId": "04ccda85-dbda-40b6-bbf5-1c76436e494b"
      },
      "outputs": [
        {
          "output_type": "stream",
          "name": "stdout",
          "text": [
            "Epoch 1/20\n",
            "23/23 [==============================] - 5s 241ms/step - loss: 0.4810 - accuracy: 0.7531 - val_loss: 2.9306 - val_accuracy: 0.6753\n",
            "Epoch 2/20\n",
            "23/23 [==============================] - 3s 135ms/step - loss: 0.2622 - accuracy: 0.8563 - val_loss: 3.7975 - val_accuracy: 0.6558\n",
            "Epoch 3/20\n",
            "23/23 [==============================] - 3s 136ms/step - loss: 0.1595 - accuracy: 0.9331 - val_loss: 3.4725 - val_accuracy: 0.7013\n",
            "Epoch 4/20\n",
            "23/23 [==============================] - 3s 137ms/step - loss: 0.1001 - accuracy: 0.9554 - val_loss: 4.9426 - val_accuracy: 0.7078\n",
            "Epoch 5/20\n",
            "23/23 [==============================] - 3s 140ms/step - loss: 0.0789 - accuracy: 0.9693 - val_loss: 3.1506 - val_accuracy: 0.7078\n",
            "Epoch 6/20\n",
            "23/23 [==============================] - 3s 137ms/step - loss: 0.0346 - accuracy: 0.9847 - val_loss: 4.2291 - val_accuracy: 0.6948\n",
            "Epoch 7/20\n",
            "23/23 [==============================] - 3s 140ms/step - loss: 0.0347 - accuracy: 0.9874 - val_loss: 4.0225 - val_accuracy: 0.6948\n",
            "Epoch 8/20\n",
            "23/23 [==============================] - 3s 132ms/step - loss: 0.0348 - accuracy: 0.9861 - val_loss: 4.3791 - val_accuracy: 0.7013\n",
            "Epoch 9/20\n",
            "23/23 [==============================] - 3s 138ms/step - loss: 0.0433 - accuracy: 0.9819 - val_loss: 3.6046 - val_accuracy: 0.7143\n",
            "Epoch 10/20\n",
            "23/23 [==============================] - 3s 139ms/step - loss: 0.0192 - accuracy: 0.9930 - val_loss: 4.0421 - val_accuracy: 0.6948\n",
            "Epoch 11/20\n",
            "23/23 [==============================] - 3s 139ms/step - loss: 0.0277 - accuracy: 0.9861 - val_loss: 3.4618 - val_accuracy: 0.7013\n",
            "Epoch 12/20\n",
            "23/23 [==============================] - 3s 138ms/step - loss: 0.0200 - accuracy: 0.9888 - val_loss: 3.6775 - val_accuracy: 0.7013\n",
            "Epoch 13/20\n",
            "23/23 [==============================] - 3s 139ms/step - loss: 0.0245 - accuracy: 0.9930 - val_loss: 7.6217 - val_accuracy: 0.7078\n",
            "Epoch 14/20\n",
            "23/23 [==============================] - 3s 136ms/step - loss: 0.0430 - accuracy: 0.9805 - val_loss: 8.4808 - val_accuracy: 0.6753\n",
            "Epoch 15/20\n",
            "23/23 [==============================] - 3s 126ms/step - loss: 0.0370 - accuracy: 0.9902 - val_loss: 15.6039 - val_accuracy: 0.7078\n",
            "Epoch 16/20\n",
            "23/23 [==============================] - 3s 126ms/step - loss: 0.0684 - accuracy: 0.9847 - val_loss: 7.1135 - val_accuracy: 0.7403\n",
            "Epoch 17/20\n",
            "23/23 [==============================] - 3s 126ms/step - loss: 0.0504 - accuracy: 0.9819 - val_loss: 10.2573 - val_accuracy: 0.7078\n",
            "Epoch 18/20\n",
            "23/23 [==============================] - 3s 131ms/step - loss: 0.0249 - accuracy: 0.9902 - val_loss: 4.2320 - val_accuracy: 0.7597\n",
            "Epoch 19/20\n",
            "23/23 [==============================] - 3s 126ms/step - loss: 0.0105 - accuracy: 0.9972 - val_loss: 8.0754 - val_accuracy: 0.7468\n",
            "Epoch 20/20\n",
            "23/23 [==============================] - 3s 126ms/step - loss: 0.0029 - accuracy: 1.0000 - val_loss: 8.4031 - val_accuracy: 0.7273\n"
          ]
        }
      ],
      "source": [
        "training = model.fit(X_train, y_train, batch_size = 32, epochs = 20, validation_data= (X_valid2, y_valid2))"
      ]
    },
    {
      "cell_type": "code",
      "execution_count": null,
      "metadata": {
        "id": "3c0zHUeWOdHr",
        "colab": {
          "base_uri": "https://localhost:8080/"
        },
        "outputId": "b5aa33ca-d6b7-4d16-82b1-306a8e663103"
      },
      "outputs": [
        {
          "output_type": "stream",
          "name": "stdout",
          "text": [
            "5/5 [==============================] - 0s 59ms/step - loss: 0.0176 - accuracy: 0.9870\n",
            "5/5 [==============================] - 0s 53ms/step - loss: 7.8390 - accuracy: 0.7662\n"
          ]
        },
        {
          "output_type": "execute_result",
          "data": {
            "text/plain": [
              "[7.839040756225586, 0.7662337422370911]"
            ]
          },
          "metadata": {},
          "execution_count": 10
        }
      ],
      "source": [
        "model.evaluate(X_test2, y_test2)"
      ]
    },
    {
      "cell_type": "code",
      "execution_count": null,
      "metadata": {
        "id": "mvNIFa33Okrl",
        "colab": {
          "base_uri": "https://localhost:8080/",
          "height": 295
        },
        "outputId": "0f2da739-9fbe-45ac-c158-f5366548cc01"
      },
      "outputs": [
        {
          "output_type": "display_data",
          "data": {
            "image/png": "[encoded data removed]",
            "text/plain": [
              "<Figure size 432x288 with 1 Axes>"
            ]
          },
          "metadata": {
            "needs_background": "light"
          }
        }
      ],
      "source": [
        "plt.plot(training.history['accuracy'])\n",
        "plt.plot(training.history['val_accuracy'])\n",
        "plt.title(\"Training and Validation Accuracy\")\n",
        "plt.ylabel(\"Accuracy (%)\")\n",
        "plt.xlabel(\"Epoch\")\n",
        "plt.legend(['Train','Validation'], loc = 'lower right')\n",
        "plt.show()"
      ]
    },
    {
      "cell_type": "code",
      "execution_count": null,
      "metadata": {
        "id": "pVReDmShO-N7",
        "colab": {
          "base_uri": "https://localhost:8080/",
          "height": 295
        },
        "outputId": "f805ac6c-379b-49fc-8514-e4a365a91347"
      },
      "outputs": [
        {
          "output_type": "display_data",
          "data": {
            "image/png": "[encoded data removed]",
            "text/plain": [
              "<Figure size 432x288 with 1 Axes>"
            ]
          },
          "metadata": {
            "needs_background": "light"
          }
        }
      ],
      "source": [
        "plt.plot(training.history['loss'])\n",
        "plt.plot(training.history['val_loss'])\n",
        "plt.title(\"Training and Validation Loss\")\n",
        "plt.ylabel(\"Loss\")\n",
        "plt.xlabel(\"Epoch\")\n",
        "plt.legend(['Train', 'Validation'], loc = 'upper left')\n",
        "plt.show()"
      ]
    },
    {
      "cell_type": "code",
      "execution_count": null,
      "metadata": {
        "id": "tZ4EclsgPCHR",
        "colab": {
          "base_uri": "https://localhost:8080/"
        },
        "outputId": "415b60f3-ba8e-4c06-fdba-963f9dcde47f"
      },
      "outputs": [
        {
          "output_type": "stream",
          "name": "stdout",
          "text": [
            "Model: \"sequential\"\n",
            "_________________________________________________________________\n",
            " Layer (type)                Output Shape              Param #   \n",
            "=================================================================\n",
            " conv2d (Conv2D)             (None, 248, 248, 32)      2624      \n",
            "                                                                 \n",
            " average_pooling2d (AverageP  (None, 124, 124, 32)     0         \n",
            " ooling2D)                                                       \n",
            "                                                                 \n",
            " conv2d_1 (Conv2D)           (None, 120, 120, 64)      51264     \n",
            "                                                                 \n",
            " average_pooling2d_1 (Averag  (None, 40, 40, 64)       0         \n",
            " ePooling2D)                                                     \n",
            "                                                                 \n",
            " conv2d_2 (Conv2D)           (None, 38, 38, 128)       73856     \n",
            "                                                                 \n",
            " average_pooling2d_2 (Averag  (None, 19, 19, 128)      0         \n",
            " ePooling2D)                                                     \n",
            "                                                                 \n",
            " flatten (Flatten)           (None, 46208)             0         \n",
            "                                                                 \n",
            " dense (Dense)               (None, 64)                2957376   \n",
            "                                                                 \n",
            " dense_1 (Dense)             (None, 3)                 195       \n",
            "                                                                 \n",
            "=================================================================\n",
            "Total params: 3,085,315\n",
            "Trainable params: 3,085,315\n",
            "Non-trainable params: 0\n",
            "_________________________________________________________________\n"
          ]
        }
      ],
      "source": [
        "model.summary()"
      ]
    },
    {
      "cell_type": "code",
      "execution_count": null,
      "metadata": {
        "id": "ZWf2ji-SPGO5",
        "colab": {
          "base_uri": "https://localhost:8080/"
        },
        "outputId": "1b8d8ad1-4c40-4e30-e581-48cf1fe6bd79"
      },
      "outputs": [
        {
          "output_type": "stream",
          "name": "stdout",
          "text": [
            "INFO:tensorflow:Assets written to: /content/drive/MyDrive/Stem Proyectp/Project/Models/model_3/assets\n"
          ]
        }
      ],
      "source": [
        "model.save(\"/content/drive/MyDrive/Stem Proyectp/Project/Models/model_3\")"
      ]
    }
  ],
  "metadata": {
    "accelerator": "GPU",
    "colab": {
      "name": "ConvNet_3_0.ipynb",
      "provenance": [],
      "collapsed_sections": [],
      "authorship_tag": "ABX9TyNiaqtcMDbeh2Ho1z9hCxCl",
      "include_colab_link": true
    },
    "kernelspec": {
      "display_name": "Python 3",
      "name": "python3"
    },
    "language_info": {
      "name": "python"
    }
  },
  "nbformat": 4,
  "nbformat_minor": 0
}