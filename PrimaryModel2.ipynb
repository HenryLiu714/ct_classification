{
  "cells": [
    {
      "cell_type": "markdown",
      "metadata": {
        "id": "view-in-github",
        "colab_type": "text"
      },
      "source": [
        "<a href=\"https://colab.research.google.com/github/HenryLiu714/ct_classification/blob/main/PrimaryModel2.ipynb\" target=\"_parent\"><img src=\"https://colab.research.google.com/assets/colab-badge.svg\" alt=\"Open In Colab\"/></a>"
      ]
    },
    {
      "cell_type": "code",
      "execution_count": null,
      "metadata": {
        "id": "yI626LZ0N0Bh"
      },
      "outputs": [],
      "source": [
        "import tensorflow as tf\n",
        "from tensorflow import keras\n",
        "from tensorflow.keras.models import Sequential\n",
        "from tensorflow.keras.layers import Dense, Dropout, Activation, Flatten, Conv2D, MaxPooling2D, AveragePooling2D\n",
        "import numpy as np\n",
        "import matplotlib.pyplot as plt\n",
        "\n",
        "from sklearn.model_selection import train_test_split"
      ]
    },
    {
      "cell_type": "code",
      "execution_count": null,
      "metadata": {
        "id": "hg8lyYwtN3Qo",
        "colab": {
          "base_uri": "https://localhost:8080/"
        },
        "outputId": "4ddace07-5001-40ec-c9ee-d21ec01b1868"
      },
      "outputs": [
        {
          "output_type": "stream",
          "name": "stdout",
          "text": [
            "Mounted at /content/drive\n"
          ]
        }
      ],
      "source": [
        "from google.colab import drive\n",
        "drive.mount('/content/drive')"
      ]
    },
    {
      "cell_type": "code",
      "execution_count": null,
      "metadata": {
        "id": "obtp6ZhsN56M"
      },
      "outputs": [],
      "source": [
        "X = np.load(\"/content/drive/MyDrive/Stem Proyectp/Project/DataStorage/set2_features.npy\")\n",
        "y = np.load(\"/content/drive/MyDrive/Stem Proyectp/Project/DataStorage/set2_labels.npy\")\n",
        "\n",
        "X2 = np.load(\"/content/drive/MyDrive/Stem Proyectp/Project/DataStorage/set4_features.npy\") # Mix images\n",
        "y2 = np.load(\"/content/drive/MyDrive/Stem Proyectp/Project/DataStorage/set4_labels.npy\")\n",
        "\n",
        "X_train, X_rem, y_train, y_rem = train_test_split(X, y, test_size = 0.3, random_state = 17)\n",
        "X_test, X_valid, y_test, y_valid = train_test_split(X_rem, y_rem, test_size = 0.5, random_state = 9)\n",
        "\n",
        "X_train2, X_rem2, y_train2, y_rem2 = train_test_split(X2, y2, test_size = 0.3, random_state = 17)\n",
        "X_test2, X_valid2, y_test2, y_valid2 = train_test_split(X_rem2, y_rem2, test_size = 0.5, random_state = 9)"
      ]
    },
    {
      "cell_type": "code",
      "execution_count": null,
      "metadata": {
        "id": "BovnsFZNOJjW",
        "colab": {
          "base_uri": "https://localhost:8080/"
        },
        "outputId": "777a4417-807e-43e8-e641-92fc1dbbfc14"
      },
      "outputs": [
        {
          "output_type": "stream",
          "name": "stdout",
          "text": [
            "(1025, 256, 256, 1)\n",
            "(1025,)\n"
          ]
        }
      ],
      "source": [
        "print(X.shape)\n",
        "print(y.shape)"
      ]
    },
    {
      "cell_type": "code",
      "execution_count": null,
      "metadata": {
        "id": "KQCuxSIYON7n"
      },
      "outputs": [],
      "source": [
        "class BuildModel:\n",
        "  def layer1(model):\n",
        "    model.add(Conv2D(16, (9, 9), activation='relu', input_shape=X.shape[1:]))\n",
        "    model.add(MaxPooling2D(pool_size=(3, 3)))\n",
        "\n",
        "  def convLayer(model):\n",
        "    model.add(Conv2D(64, (3, 3), activation = 'relu'))\n",
        "    model.add(MaxPooling2D(pool_size=(3,3)))\n",
        "\n",
        "  def convLayer2(model):\n",
        "    model.add(Conv2D(32, (5, 5), activation = 'relu'))\n",
        "    model.add(MaxPooling2D(pool_size= (3,3)))\n",
        "\n",
        "  def denseLayer(model):\n",
        "    model.add(Flatten())\n",
        "    model.add(Dense(128, activation = 'relu'))\n",
        "    model.add(Dense(3, activation = 'softmax'))"
      ]
    },
    {
      "cell_type": "code",
      "execution_count": null,
      "metadata": {
        "id": "RPvblJVQOWuS"
      },
      "outputs": [],
      "source": [
        "model = Sequential()\n",
        "\n",
        "BuildModel.layer1(model)\n",
        "BuildModel.convLayer2(model)\n",
        "BuildModel.convLayer(model)\n",
        "BuildModel.denseLayer(model)"
      ]
    },
    {
      "cell_type": "code",
      "execution_count": null,
      "metadata": {
        "id": "iWUf_d2FOX7Y"
      },
      "outputs": [],
      "source": [
        "model.compile(loss = 'sparse_categorical_crossentropy', \n",
        "              optimizer = 'adam',\n",
        "              metrics = ['accuracy'])"
      ]
    },
    {
      "cell_type": "code",
      "execution_count": null,
      "metadata": {
        "colab": {
          "base_uri": "https://localhost:8080/"
        },
        "id": "KUctsi9BOZmh",
        "outputId": "fae999ba-d755-453b-caa1-58c7846afe64"
      },
      "outputs": [
        {
          "output_type": "stream",
          "name": "stdout",
          "text": [
            "Epoch 1/20\n",
            "23/23 [==============================] - 12s 93ms/step - loss: 0.4968 - accuracy: 0.7573 - val_loss: 2.3580 - val_accuracy: 0.6494\n",
            "Epoch 2/20\n",
            "23/23 [==============================] - 1s 57ms/step - loss: 0.2341 - accuracy: 0.8898 - val_loss: 2.5306 - val_accuracy: 0.6688\n",
            "Epoch 3/20\n",
            "23/23 [==============================] - 1s 56ms/step - loss: 0.1381 - accuracy: 0.9331 - val_loss: 2.7942 - val_accuracy: 0.6429\n",
            "Epoch 4/20\n",
            "23/23 [==============================] - 1s 56ms/step - loss: 0.1467 - accuracy: 0.9289 - val_loss: 2.3895 - val_accuracy: 0.6623\n",
            "Epoch 5/20\n",
            "23/23 [==============================] - 1s 57ms/step - loss: 0.0994 - accuracy: 0.9470 - val_loss: 3.1066 - val_accuracy: 0.6948\n",
            "Epoch 6/20\n",
            "23/23 [==============================] - 1s 55ms/step - loss: 0.0624 - accuracy: 0.9805 - val_loss: 2.3987 - val_accuracy: 0.7078\n",
            "Epoch 7/20\n",
            "23/23 [==============================] - 1s 57ms/step - loss: 0.0629 - accuracy: 0.9707 - val_loss: 1.7064 - val_accuracy: 0.7338\n",
            "Epoch 8/20\n",
            "23/23 [==============================] - 1s 56ms/step - loss: 0.0254 - accuracy: 0.9874 - val_loss: 2.4145 - val_accuracy: 0.7468\n",
            "Epoch 9/20\n",
            "23/23 [==============================] - 1s 61ms/step - loss: 0.0124 - accuracy: 0.9930 - val_loss: 2.6073 - val_accuracy: 0.7532\n",
            "Epoch 10/20\n",
            "23/23 [==============================] - 2s 68ms/step - loss: 0.0117 - accuracy: 0.9958 - val_loss: 3.1749 - val_accuracy: 0.7468\n",
            "Epoch 11/20\n",
            "23/23 [==============================] - 1s 63ms/step - loss: 0.0062 - accuracy: 1.0000 - val_loss: 3.3278 - val_accuracy: 0.7403\n",
            "Epoch 12/20\n",
            "23/23 [==============================] - 1s 59ms/step - loss: 0.0026 - accuracy: 1.0000 - val_loss: 3.3629 - val_accuracy: 0.7532\n",
            "Epoch 13/20\n",
            "23/23 [==============================] - 1s 57ms/step - loss: 0.0028 - accuracy: 1.0000 - val_loss: 3.2927 - val_accuracy: 0.7662\n",
            "Epoch 14/20\n",
            "23/23 [==============================] - 1s 55ms/step - loss: 0.0036 - accuracy: 1.0000 - val_loss: 3.5473 - val_accuracy: 0.7532\n",
            "Epoch 15/20\n",
            "23/23 [==============================] - 1s 56ms/step - loss: 0.0147 - accuracy: 0.9944 - val_loss: 3.7164 - val_accuracy: 0.7273\n",
            "Epoch 16/20\n",
            "23/23 [==============================] - 1s 56ms/step - loss: 0.0043 - accuracy: 1.0000 - val_loss: 2.8986 - val_accuracy: 0.7597\n",
            "Epoch 17/20\n",
            "23/23 [==============================] - 1s 56ms/step - loss: 0.0075 - accuracy: 0.9986 - val_loss: 3.9048 - val_accuracy: 0.6948\n",
            "Epoch 18/20\n",
            "23/23 [==============================] - 2s 66ms/step - loss: 0.0773 - accuracy: 0.9791 - val_loss: 2.1027 - val_accuracy: 0.7208\n",
            "Epoch 19/20\n",
            "23/23 [==============================] - 1s 55ms/step - loss: 0.0317 - accuracy: 0.9888 - val_loss: 2.3462 - val_accuracy: 0.7792\n",
            "Epoch 20/20\n",
            "23/23 [==============================] - 1s 56ms/step - loss: 0.0037 - accuracy: 1.0000 - val_loss: 2.1357 - val_accuracy: 0.7662\n"
          ]
        }
      ],
      "source": [
        "training = model.fit(X_train, y_train, batch_size = 32, epochs = 20, validation_data= (X_valid2, y_valid2))"
      ]
    },
    {
      "cell_type": "code",
      "execution_count": null,
      "metadata": {
        "id": "3c0zHUeWOdHr",
        "colab": {
          "base_uri": "https://localhost:8080/"
        },
        "outputId": "659bddd1-368a-463a-cfd7-a7ab8540c790"
      },
      "outputs": [
        {
          "output_type": "stream",
          "name": "stdout",
          "text": [
            "5/5 [==============================] - 0s 26ms/step - loss: 0.0332 - accuracy: 0.9870\n",
            "5/5 [==============================] - 0s 26ms/step - loss: 2.2385 - accuracy: 0.7922\n"
          ]
        },
        {
          "output_type": "execute_result",
          "data": {
            "text/plain": [
              "[2.2385470867156982, 0.7922077775001526]"
            ]
          },
          "metadata": {},
          "execution_count": 9
        }
      ],
      "source": [
        " model.evaluate(X_test, y_test)\n",
        " model.evaluate(X_test2, y_test2)"
      ]
    },
    {
      "cell_type": "code",
      "execution_count": null,
      "metadata": {
        "id": "mvNIFa33Okrl",
        "colab": {
          "base_uri": "https://localhost:8080/",
          "height": 295
        },
        "outputId": "b13f4571-cd21-4fbd-c42b-463268372ebd"
      },
      "outputs": [
        {
          "output_type": "display_data",
          "data": {
            "image/png": "[encoded data removed]",
            "text/plain": [
              "<Figure size 432x288 with 1 Axes>"
            ]
          },
          "metadata": {
            "needs_background": "light"
          }
        }
      ],
      "source": [
        "plt.plot(training.history['accuracy'])\n",
        "plt.plot(training.history['val_accuracy'])\n",
        "plt.title(\"Training and Validation Accuracy\")\n",
        "plt.ylabel(\"Accuracy (%)\")\n",
        "plt.xlabel(\"Epoch\")\n",
        "plt.legend(['Train','Validation'], loc = 'lower right')\n",
        "plt.show()"
      ]
    },
    {
      "cell_type": "code",
      "execution_count": null,
      "metadata": {
        "id": "pVReDmShO-N7",
        "colab": {
          "base_uri": "https://localhost:8080/",
          "height": 295
        },
        "outputId": "11d5e93b-1aeb-4b2c-de04-4ae66df07e6b"
      },
      "outputs": [
        {
          "output_type": "display_data",
          "data": {
            "image/png": "[encoded data removed]",
            "text/plain": [
              "<Figure size 432x288 with 1 Axes>"
            ]
          },
          "metadata": {
            "needs_background": "light"
          }
        }
      ],
      "source": [
        "plt.plot(training.history['loss'])\n",
        "plt.plot(training.history['val_loss'])\n",
        "plt.title(\"Training and Validation Loss\")\n",
        "plt.ylabel(\"Loss\")\n",
        "plt.xlabel(\"Epoch\")\n",
        "plt.legend(['Train', 'Validation'], loc = 'upper left')\n",
        "plt.show()"
      ]
    },
    {
      "cell_type": "code",
      "execution_count": null,
      "metadata": {
        "id": "tZ4EclsgPCHR",
        "colab": {
          "base_uri": "https://localhost:8080/"
        },
        "outputId": "0079bb82-c2cf-4843-fd2c-c8d847c2e279"
      },
      "outputs": [
        {
          "output_type": "stream",
          "name": "stdout",
          "text": [
            "Model: \"sequential\"\n",
            "_________________________________________________________________\n",
            " Layer (type)                Output Shape              Param #   \n",
            "=================================================================\n",
            " conv2d (Conv2D)             (None, 248, 248, 16)      1312      \n",
            "                                                                 \n",
            " max_pooling2d (MaxPooling2D  (None, 82, 82, 16)       0         \n",
            " )                                                               \n",
            "                                                                 \n",
            " conv2d_1 (Conv2D)           (None, 78, 78, 32)        12832     \n",
            "                                                                 \n",
            " max_pooling2d_1 (MaxPooling  (None, 26, 26, 32)       0         \n",
            " 2D)                                                             \n",
            "                                                                 \n",
            " conv2d_2 (Conv2D)           (None, 24, 24, 64)        18496     \n",
            "                                                                 \n",
            " max_pooling2d_2 (MaxPooling  (None, 8, 8, 64)         0         \n",
            " 2D)                                                             \n",
            "                                                                 \n",
            " flatten (Flatten)           (None, 4096)              0         \n",
            "                                                                 \n",
            " dense (Dense)               (None, 128)               524416    \n",
            "                                                                 \n",
            " dense_1 (Dense)             (None, 3)                 387       \n",
            "                                                                 \n",
            "=================================================================\n",
            "Total params: 557,443\n",
            "Trainable params: 557,443\n",
            "Non-trainable params: 0\n",
            "_________________________________________________________________\n"
          ]
        }
      ],
      "source": [
        "model.summary()"
      ]
    },
    {
      "cell_type": "code",
      "execution_count": null,
      "metadata": {
        "id": "ZWf2ji-SPGO5",
        "colab": {
          "base_uri": "https://localhost:8080/"
        },
        "outputId": "ac7a5a46-9fbe-4a3f-8d51-258399c3d33d"
      },
      "outputs": [
        {
          "output_type": "stream",
          "name": "stdout",
          "text": [
            "INFO:tensorflow:Assets written to: /content/drive/MyDrive/Stem Proyectp/Project/Models/model_4/assets\n"
          ]
        }
      ],
      "source": [
        "model.save(\"/content/drive/MyDrive/Stem Proyectp/Project/Models/model_4\")"
      ]
    }
  ],
  "metadata": {
    "accelerator": "GPU",
    "colab": {
      "name": "ConvNet_4_0.ipynb",
      "provenance": [],
      "collapsed_sections": [],
      "authorship_tag": "ABX9TyPYMbLI89LVltBi1gejqcEM",
      "include_colab_link": true
    },
    "kernelspec": {
      "display_name": "Python 3",
      "name": "python3"
    },
    "language_info": {
      "name": "python"
    }
  },
  "nbformat": 4,
  "nbformat_minor": 0
}