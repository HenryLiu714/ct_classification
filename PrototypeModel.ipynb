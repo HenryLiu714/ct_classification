{
  "nbformat": 4,
  "nbformat_minor": 0,
  "metadata": {
    "colab": {
      "name": "ConvNet_1_5",
      "provenance": [],
      "collapsed_sections": [],
      "authorship_tag": "ABX9TyM3rbMC82DF4XiYVxAiG6ou",
      "include_colab_link": true
    },
    "kernelspec": {
      "name": "python3",
      "display_name": "Python 3"
    },
    "language_info": {
      "name": "python"
    },
    "accelerator": "GPU"
  },
  "cells": [
    {
      "cell_type": "markdown",
      "metadata": {
        "id": "view-in-github",
        "colab_type": "text"
      },
      "source": [
        "<a href=\"https://colab.research.google.com/github/HenryLiu714/ct_classification/blob/main/PrototypeModel.ipynb\" target=\"_parent\"><img src=\"https://colab.research.google.com/assets/colab-badge.svg\" alt=\"Open In Colab\"/></a>"
      ]
    },
    {
      "cell_type": "code",
      "metadata": {
        "colab": {
          "base_uri": "https://localhost:8080/"
        },
        "id": "5s0D-rZDN5nz",
        "outputId": "d6dbbb3d-2c23-45fa-ce40-066bf3cdafd9"
      },
      "source": [
        "import tensorflow as tf\n",
        "from tensorflow import keras\n",
        "from tensorflow.keras.models import Sequential\n",
        "from tensorflow.keras.layers import Dense, Dropout, Activation, Flatten, Conv2D, MaxPooling2D\n",
        "import numpy as np\n",
        "import matplotlib.pyplot as plt\n",
        "\n",
        "from sklearn.model_selection import train_test_split\n",
        "\n",
        "from google.colab import drive\n",
        "drive.mount('/content/drive')\n",
        "import pickle"
      ],
      "execution_count": null,
      "outputs": [
        {
          "output_type": "stream",
          "name": "stdout",
          "text": [
            "Mounted at /content/drive\n"
          ]
        }
      ]
    },
    {
      "cell_type": "code",
      "metadata": {
        "id": "NjN0Fn7EOfFY"
      },
      "source": [
        "X = pickle.load(open(\"/content/drive/My Drive/Stem Proyectp/Project/DataStorage/X.pickle\",\"rb\"))\n",
        "y = pickle.load(open(\"/content/drive/My Drive/Stem Proyectp/Project/DataStorage/y.pickle\",\"rb\"))"
      ],
      "execution_count": null,
      "outputs": []
    },
    {
      "cell_type": "code",
      "metadata": {
        "id": "ZVZ6_CvLOhaz"
      },
      "source": [
        "X=X/255.0\n",
        "y = np.array(y)"
      ],
      "execution_count": null,
      "outputs": []
    },
    {
      "cell_type": "code",
      "metadata": {
        "id": "iR2S8SNdOrgb"
      },
      "source": [
        "X_train, X_rem, y_train, y_rem = train_test_split(X, y, test_size = 0.2, random_state = 1)\n",
        "X_test, X_valid, y_test, y_valid = train_test_split(X_rem, y_rem, test_size = 0.5, random_state = 2)"
      ],
      "execution_count": null,
      "outputs": []
    },
    {
      "cell_type": "code",
      "metadata": {
        "id": "oXBqJkE4O2FV"
      },
      "source": [
        "class EditModel:\n",
        "  def layer1(model):\n",
        "    model.add(Conv2D(64, (3,3), input_shape = X.shape[1:])) # 32 filter start\n",
        "    model.add(Activation(\"relu\"))\n",
        "    model.add(MaxPooling2D(pool_size=(2,2)))\n",
        "\n",
        "  def layer2(model):\n",
        "    model.add(Conv2D(64, (10,10))) # As opposed to 3 x 3\n",
        "    model.add(Activation(\"relu\"))\n",
        "    model.add(MaxPooling2D(pool_size=(2,2)))\n",
        "\n",
        "  def layer3(model):\n",
        "    model.add(Flatten())\n",
        "    model.add(Dense(64))\n",
        "\n",
        "  def layer4(model):\n",
        "    model.add(Dense(1))\n",
        "    model.add(Activation('sigmoid'))\n",
        "\n",
        "  def layer5(model):\n",
        "    model.add(Conv2D(96, (10,10))) #96 filter end\n",
        "    model.add(Activation(\"relu\"))\n",
        "    model.add(MaxPooling2D(pool_size=(2,2)))\n",
        "\n",
        "  def layer6(model):\n",
        "    model.add(Conv2D(64, (5,5))) # As opposed to 3 x 3\n",
        "    model.add(Activation(\"relu\"))\n",
        "    model.add(MaxPooling2D(pool_size=(2,2)))"
      ],
      "execution_count": null,
      "outputs": []
    },
    {
      "cell_type": "code",
      "metadata": {
        "id": "DLubu3DxO_90"
      },
      "source": [
        "model = Sequential()\n",
        "\n",
        "EditModel.layer1(model)\n",
        "EditModel.layer2(model) # Removed a layer2\n",
        "EditModel.layer6(model)\n",
        "EditModel.layer5(model)\n",
        "EditModel.layer3(model)\n",
        "EditModel.layer4(model)"
      ],
      "execution_count": null,
      "outputs": []
    },
    {
      "cell_type": "code",
      "metadata": {
        "id": "aCD3qiaTPAZK"
      },
      "source": [
        "model.compile(loss=\"binary_crossentropy\",\n",
        "             optimizer = \"adam\",\n",
        "             metrics = ['accuracy'])"
      ],
      "execution_count": null,
      "outputs": []
    },
    {
      "cell_type": "code",
      "metadata": {
        "id": "CNhJFOtePBuj",
        "colab": {
          "base_uri": "https://localhost:8080/"
        },
        "outputId": "a74a6476-9ec6-4eb2-effd-2cb94a82a68e"
      },
      "source": [
        "training = model.fit(X_train, y_train, batch_size = 15, epochs = 10, validation_data=(X_valid, y_valid))"
      ],
      "execution_count": null,
      "outputs": [
        {
          "output_type": "stream",
          "name": "stdout",
          "text": [
            "Epoch 1/10\n",
            "134/134 [==============================] - 75s 415ms/step - loss: 0.8647 - accuracy: 0.6035 - val_loss: 0.6199 - val_accuracy: 0.6693\n",
            "Epoch 2/10\n",
            "134/134 [==============================] - 47s 349ms/step - loss: 0.6172 - accuracy: 0.6710 - val_loss: 0.5840 - val_accuracy: 0.6853\n",
            "Epoch 3/10\n",
            "134/134 [==============================] - 47s 348ms/step - loss: 0.4956 - accuracy: 0.7645 - val_loss: 0.4154 - val_accuracy: 0.7968\n",
            "Epoch 4/10\n",
            "134/134 [==============================] - 47s 349ms/step - loss: 0.3707 - accuracy: 0.8415 - val_loss: 0.3537 - val_accuracy: 0.8367\n",
            "Epoch 5/10\n",
            "134/134 [==============================] - 47s 348ms/step - loss: 0.2841 - accuracy: 0.8820 - val_loss: 0.3402 - val_accuracy: 0.8327\n",
            "Epoch 6/10\n",
            "134/134 [==============================] - 47s 348ms/step - loss: 0.1846 - accuracy: 0.9310 - val_loss: 0.2863 - val_accuracy: 0.8606\n",
            "Epoch 7/10\n",
            "134/134 [==============================] - 47s 348ms/step - loss: 0.1968 - accuracy: 0.9240 - val_loss: 0.2222 - val_accuracy: 0.9084\n",
            "Epoch 8/10\n",
            "134/134 [==============================] - 47s 348ms/step - loss: 0.1143 - accuracy: 0.9590 - val_loss: 0.3094 - val_accuracy: 0.8924\n",
            "Epoch 9/10\n",
            "134/134 [==============================] - 47s 349ms/step - loss: 0.0811 - accuracy: 0.9650 - val_loss: 0.3760 - val_accuracy: 0.9004\n",
            "Epoch 10/10\n",
            "134/134 [==============================] - 47s 349ms/step - loss: 0.0694 - accuracy: 0.9730 - val_loss: 0.2056 - val_accuracy: 0.9283\n"
          ]
        }
      ]
    },
    {
      "cell_type": "code",
      "metadata": {
        "id": "ZjTK39jtuivA",
        "colab": {
          "base_uri": "https://localhost:8080/"
        },
        "outputId": "b346783b-8eee-47c1-ae02-46081ba9122e"
      },
      "source": [
        "model.save(\"/content/drive/My Drive/Stem Proyectp/Project/Models/model_1_v5\")"
      ],
      "execution_count": null,
      "outputs": [
        {
          "output_type": "stream",
          "name": "stdout",
          "text": [
            "INFO:tensorflow:Assets written to: /content/drive/My Drive/Stem Proyectp/Project/Models/model_1_v5/assets\n"
          ]
        }
      ]
    },
    {
      "cell_type": "code",
      "metadata": {
        "id": "QwYsYZolwI-L"
      },
      "source": [
        "model_1_v5 = keras.models.load_model(\"/content/drive/My Drive/Stem Proyectp/Project/Models/model_1_v5\")"
      ],
      "execution_count": null,
      "outputs": []
    },
    {
      "cell_type": "code",
      "metadata": {
        "id": "TiRKVTSzpGFd",
        "colab": {
          "base_uri": "https://localhost:8080/",
          "height": 295
        },
        "outputId": "52fcb044-0832-42d6-bfff-54415d0f2b52"
      },
      "source": [
        "plt.plot(training.history['accuracy'])\n",
        "plt.plot(training.history['val_accuracy'])\n",
        "plt.title(\"Training and Validation Accuracy\")\n",
        "plt.ylabel(\"Accuracy (%)\")\n",
        "plt.xlabel(\"Epoch\")\n",
        "plt.legend(['Train','Validation'], loc = 'lower right')\n",
        "plt.show()"
      ],
      "execution_count": null,
      "outputs": [
        {
          "output_type": "display_data",
          "data": {
            "image/png": "[encoded data removed]",
            "text/plain": [
              "<Figure size 432x288 with 1 Axes>"
            ]
          },
          "metadata": {
            "needs_background": "light"
          }
        }
      ]
    },
    {
      "cell_type": "code",
      "source": [
        "plt.plot(training.history['loss'])\n",
        "plt.plot(training.history['val_loss'])\n",
        "plt.title(\"Training and Validation Loss\")\n",
        "plt.ylabel(\"Loss\")\n",
        "plt.xlabel(\"Epoch\")\n",
        "plt.legend(['Train', 'Validation'], loc = 'lower left')\n",
        "plt.show()"
      ],
      "metadata": {
        "id": "f9NNwjz3tU8F",
        "colab": {
          "base_uri": "https://localhost:8080/",
          "height": 295
        },
        "outputId": "c0252918-9cf3-4416-e222-396a4e7be2fb"
      },
      "execution_count": null,
      "outputs": [
        {
          "output_type": "display_data",
          "data": {
            "image/png": "[encoded data removed]",
            "text/plain": [
              "<Figure size 432x288 with 1 Axes>"
            ]
          },
          "metadata": {
            "needs_background": "light"
          }
        }
      ]
    },
    {
      "cell_type": "code",
      "source": [
        "model_1_v5.summary()\n"
      ],
      "metadata": {
        "id": "w0i2Z6XFSWY5",
        "colab": {
          "base_uri": "https://localhost:8080/"
        },
        "outputId": "d3deece0-65a0-4cb7-ea20-7707210a70d9"
      },
      "execution_count": null,
      "outputs": [
        {
          "output_type": "stream",
          "name": "stdout",
          "text": [
            "Model: \"sequential\"\n",
            "_________________________________________________________________\n",
            " Layer (type)                Output Shape              Param #   \n",
            "=================================================================\n",
            " conv2d (Conv2D)             (None, 398, 398, 64)      640       \n",
            "                                                                 \n",
            " activation (Activation)     (None, 398, 398, 64)      0         \n",
            "                                                                 \n",
            " max_pooling2d (MaxPooling2D  (None, 199, 199, 64)     0         \n",
            " )                                                               \n",
            "                                                                 \n",
            " conv2d_1 (Conv2D)           (None, 190, 190, 64)      409664    \n",
            "                                                                 \n",
            " activation_1 (Activation)   (None, 190, 190, 64)      0         \n",
            "                                                                 \n",
            " max_pooling2d_1 (MaxPooling  (None, 95, 95, 64)       0         \n",
            " 2D)                                                             \n",
            "                                                                 \n",
            " conv2d_2 (Conv2D)           (None, 91, 91, 64)        102464    \n",
            "                                                                 \n",
            " activation_2 (Activation)   (None, 91, 91, 64)        0         \n",
            "                                                                 \n",
            " max_pooling2d_2 (MaxPooling  (None, 45, 45, 64)       0         \n",
            " 2D)                                                             \n",
            "                                                                 \n",
            " conv2d_3 (Conv2D)           (None, 36, 36, 96)        614496    \n",
            "                                                                 \n",
            " activation_3 (Activation)   (None, 36, 36, 96)        0         \n",
            "                                                                 \n",
            " max_pooling2d_3 (MaxPooling  (None, 18, 18, 96)       0         \n",
            " 2D)                                                             \n",
            "                                                                 \n",
            " flatten (Flatten)           (None, 31104)             0         \n",
            "                                                                 \n",
            " dense (Dense)               (None, 64)                1990720   \n",
            "                                                                 \n",
            " dense_1 (Dense)             (None, 1)                 65        \n",
            "                                                                 \n",
            " activation_4 (Activation)   (None, 1)                 0         \n",
            "                                                                 \n",
            "=================================================================\n",
            "Total params: 3,118,049\n",
            "Trainable params: 3,118,049\n",
            "Non-trainable params: 0\n",
            "_________________________________________________________________\n"
          ]
        }
      ]
    },
    {
      "cell_type": "code",
      "source": [
        "model_1_v5.evaluate(X_test, y_test)"
      ],
      "metadata": {
        "id": "2_Vx9h-gSYDe",
        "colab": {
          "base_uri": "https://localhost:8080/"
        },
        "outputId": "0e990aca-145f-4feb-9bad-c5c2264bec18"
      },
      "execution_count": null,
      "outputs": [
        {
          "output_type": "stream",
          "name": "stdout",
          "text": [
            "8/8 [==============================] - 26s 2s/step - loss: 0.1696 - accuracy: 0.9520\n"
          ]
        },
        {
          "output_type": "execute_result",
          "data": {
            "text/plain": [
              "[0.1696060597896576, 0.9520000219345093]"
            ]
          },
          "metadata": {},
          "execution_count": 14
        }
      ]
    }
  ]
}